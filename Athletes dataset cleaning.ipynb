{
 "cells": [
  {
   "cell_type": "code",
   "execution_count": 1,
   "id": "be3eb251",
   "metadata": {},
   "outputs": [],
   "source": [
    "import pandas as pd\n",
    "\n",
    "# Load the dataset\n",
    "url = \"https://raw.githubusercontent.com/rfordatascience/tidytuesday/refs/heads/master/data/2021/2021-08-03/athletes.csv\"\n",
    "data = pd.read_csv(url)"
   ]
  },
  {
   "cell_type": "code",
   "execution_count": 2,
   "id": "37ff6523",
   "metadata": {},
   "outputs": [
    {
     "name": "stdout",
     "output_type": "stream",
     "text": [
      "Data Types:\n",
      " gender      object\n",
      "event       object\n",
      "medal       object\n",
      "athlete     object\n",
      "abb         object\n",
      "country     object\n",
      "grp_id     float64\n",
      "type        object\n",
      "year         int64\n",
      "guide       object\n",
      "dtype: object\n",
      "\n",
      "Missing Values:\n",
      " gender       144\n",
      "event          0\n",
      "medal          0\n",
      "athlete      435\n",
      "abb           49\n",
      "country    14428\n",
      "grp_id     14428\n",
      "type           0\n",
      "year           0\n",
      "guide      19494\n",
      "dtype: int64\n"
     ]
    }
   ],
   "source": [
    "print(\"Data Types:\\n\", data.dtypes)\n",
    "print(\"\\nMissing Values:\\n\", data.isnull().sum())"
   ]
  },
  {
   "cell_type": "code",
   "execution_count": 3,
   "id": "84adfee8",
   "metadata": {},
   "outputs": [],
   "source": [
    "# Step 1: Drop rows where 'country' is missing and drop the 'guide' column\n",
    "data.dropna(subset=['country'], inplace=True)\n",
    "data.drop(columns=['guide'], inplace=True)\n",
    "\n",
    "# Step 2: Fill missing values in 'gender' with the mode (most frequent value)\n",
    "gender_mode = data['gender'].mode()[0]\n",
    "data['gender'].fillna(gender_mode, inplace=True)"
   ]
  },
  {
   "cell_type": "code",
   "execution_count": 4,
   "id": "05d1f55b",
   "metadata": {},
   "outputs": [
    {
     "name": "stdout",
     "output_type": "stream",
     "text": [
      "Data Types:\n",
      " gender      object\n",
      "event       object\n",
      "medal       object\n",
      "athlete     object\n",
      "abb         object\n",
      "country     object\n",
      "grp_id     float64\n",
      "type        object\n",
      "year         int64\n",
      "dtype: object\n",
      "\n",
      "Missing Values:\n",
      " gender       0\n",
      "event        0\n",
      "medal        0\n",
      "athlete    424\n",
      "abb         39\n",
      "country      0\n",
      "grp_id       0\n",
      "type         0\n",
      "year         0\n",
      "dtype: int64\n"
     ]
    }
   ],
   "source": [
    "print(\"Data Types:\\n\", data.dtypes)\n",
    "print(\"\\nMissing Values:\\n\", data.isnull().sum())"
   ]
  },
  {
   "cell_type": "code",
   "execution_count": 5,
   "id": "ad44f740",
   "metadata": {},
   "outputs": [
    {
     "name": "stdout",
     "output_type": "stream",
     "text": [
      "Unique Country Abbreviations:\n",
      " ['FRG' 'SWE' nan 'BEL' 'GBR' 'NED' 'FRA' 'AUS' 'KOR' 'FIN' 'ITA' 'JPN'\n",
      " 'GER' 'ESP' 'POL' 'USA' 'CHN' 'CZE' 'RUS' 'IRI' 'MEX' 'DEN' 'CAN' 'SUI'\n",
      " 'POR' 'IRL' 'AUT' 'HKG' 'THA' 'BLR' 'CUB' 'VEN' 'UKR' 'TUN' 'BRA' 'AZE'\n",
      " 'RSA' 'UZB' 'COL' 'ISR' 'HUN' 'NZL' 'TCH' 'KUW' 'YUG' 'NOR' 'URS' 'JAM'\n",
      " 'SVK' 'TPE' 'NGR' 'JOR' 'TUR' 'CRO' 'SRB' 'BIH' 'EGY']\n"
     ]
    }
   ],
   "source": [
    "unique_abbreviations = data['abb'].unique()\n",
    "print(\"Unique Country Abbreviations:\\n\", unique_abbreviations)"
   ]
  },
  {
   "cell_type": "code",
   "execution_count": 6,
   "id": "10fc49d4",
   "metadata": {},
   "outputs": [
    {
     "name": "stdout",
     "output_type": "stream",
     "text": [
      "    abb       country\n",
      "39  FRG  West Germany\n",
      "40  FRG  West Germany\n",
      "41  FRG  West Germany\n",
      "42  SWE        Sweden\n",
      "43  SWE        Sweden\n",
      "44  SWE        Sweden\n",
      "45  NaN             -\n",
      "46  BEL       Belgium\n",
      "47  BEL       Belgium\n",
      "48  BEL       Belgium\n"
     ]
    }
   ],
   "source": [
    "# Mapping dictionary for country abbreviations to full names\n",
    "country_codes = {\n",
    "    'FRG': 'West Germany',\n",
    "    'SWE': 'Sweden',\n",
    "    'BEL': 'Belgium',\n",
    "    'GBR': 'United Kingdom',\n",
    "    'NED': 'Netherlands',\n",
    "    'FRA': 'France',\n",
    "    'AUS': 'Australia',\n",
    "    'KOR': 'South Korea',\n",
    "    'FIN': 'Finland',\n",
    "    'ITA': 'Italy',\n",
    "    'JPN': 'Japan',\n",
    "    'GER': 'Germany',\n",
    "    'ESP': 'Spain',\n",
    "    'POL': 'Poland',\n",
    "    'USA': 'United States',\n",
    "    'CHN': 'China',\n",
    "    'CZE': 'Czech Republic',\n",
    "    'RUS': 'Russia',\n",
    "    'IRI': 'Iran',\n",
    "    'MEX': 'Mexico',\n",
    "    'DEN': 'Denmark',\n",
    "    'CAN': 'Canada',\n",
    "    'SUI': 'Switzerland',\n",
    "    'POR': 'Portugal',\n",
    "    'IRL': 'Ireland',\n",
    "    'AUT': 'Austria',\n",
    "    'HKG': 'Hong Kong',\n",
    "    'THA': 'Thailand',\n",
    "    'BLR': 'Belarus',\n",
    "    'CUB': 'Cuba',\n",
    "    'VEN': 'Venezuela',\n",
    "    'UKR': 'Ukraine',\n",
    "    'TUN': 'Tunisia',\n",
    "    'BRA': 'Brazil',\n",
    "    'AZE': 'Azerbaijan',\n",
    "    'RSA': 'South Africa',\n",
    "    'UZB': 'Uzbekistan',\n",
    "    'COL': 'Colombia',\n",
    "    'ISR': 'Israel',\n",
    "    'HUN': 'Hungary',\n",
    "    'NZL': 'New Zealand',\n",
    "    'TCH': 'Czechoslovakia',\n",
    "    'KUW': 'Kuwait',\n",
    "    'YUG': 'Yugoslavia',\n",
    "    'NOR': 'Norway',\n",
    "    'URS': 'Soviet Union',\n",
    "    'JAM': 'Jamaica',\n",
    "    'SVK': 'Slovakia',\n",
    "    'TPE': 'Chinese Taipei',\n",
    "    'NGR': 'Nigeria',\n",
    "    'JOR': 'Jordan',\n",
    "    'TUR': 'Turkey',\n",
    "    'CRO': 'Croatia',\n",
    "    'SRB': 'Serbia',\n",
    "    'BIH': 'Bosnia and Herzegovina',\n",
    "    'EGY': 'Egypt'\n",
    "}\n",
    "\n",
    "# Apply the mapping to replace abbreviations with full country names\n",
    "data['country'] = data['abb'].map(country_codes).fillna(data['country'])\n",
    "\n",
    "# Display the first few rows to verify that 'country' has been correctly mapped\n",
    "print(data[['abb', 'country']].head(10))\n"
   ]
  },
  {
   "cell_type": "code",
   "execution_count": 7,
   "id": "5a77715b",
   "metadata": {},
   "outputs": [],
   "source": [
    "gender_distribution = data.groupby(['year', 'gender']).size().reset_index(name='athlete_count')"
   ]
  },
  {
   "cell_type": "code",
   "execution_count": 8,
   "id": "6929a665",
   "metadata": {},
   "outputs": [],
   "source": [
    "medal_distribution = data[data['medal'] != \"No Medal\"].groupby('country').size().reset_index(name='medal_count')"
   ]
  },
  {
   "cell_type": "code",
   "execution_count": 9,
   "id": "e8c65701",
   "metadata": {},
   "outputs": [],
   "source": [
    "merged_data = pd.merge(data, medal_distribution, on='country', how='left')\n",
    "merged_data = pd.merge(merged_data, gender_distribution, on=['year', 'gender'], how='left')\n"
   ]
  },
  {
   "cell_type": "code",
   "execution_count": 10,
   "id": "9d8b4b09",
   "metadata": {},
   "outputs": [],
   "source": [
    "final_data = merged_data[['year', 'gender', 'medal', 'athlete', 'country', 'type', 'medal_count', 'athlete_count']]\n",
    "final_data.to_csv(\"cleaned_athletes_data.csv\", index=False)"
   ]
  },
  {
   "cell_type": "code",
   "execution_count": null,
   "id": "e0df5661",
   "metadata": {},
   "outputs": [],
   "source": []
  }
 ],
 "metadata": {
  "kernelspec": {
   "display_name": "Python 3 (ipykernel)",
   "language": "python",
   "name": "python3"
  },
  "language_info": {
   "codemirror_mode": {
    "name": "ipython",
    "version": 3
   },
   "file_extension": ".py",
   "mimetype": "text/x-python",
   "name": "python",
   "nbconvert_exporter": "python",
   "pygments_lexer": "ipython3",
   "version": "3.11.4"
  }
 },
 "nbformat": 4,
 "nbformat_minor": 5
}
